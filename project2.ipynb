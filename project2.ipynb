{
 "cells": [
  {
   "cell_type": "markdown",
   "id": "869aa517-b639-45ae-bddc-6c02e7c577ab",
   "metadata": {},
   "source": [
    "# Crime and Housing"
   ]
  },
  {
   "cell_type": "code",
   "execution_count": null,
   "id": "193d05f5-670a-417f-98fc-88bde51cb0d4",
   "metadata": {},
   "outputs": [],
   "source": [
    "import pandas as pd \n",
    "import numpy as np\n",
    "import seaborn as sns \n",
    "import matplotlib.pyplot as plt\n",
    "from scipy import stats"
   ]
  },
  {
   "cell_type": "code",
   "execution_count": null,
   "id": "26a077ec-4ccb-4a50-9702-933c6764c17d",
   "metadata": {},
   "outputs": [],
   "source": [
    "# load data sets\n",
    "crime = pd.read_csv('crime-housing-austin-2015.csv')\n",
    "population = pd.read_csv('AustinZipCodes.csv')\n",
    "\n",
    "# clean columns and set to float data types\n",
    "population['Population'] = population['Population'].str.replace(\",\", \"\").astype('float')\n",
    "population['People / Sq. Mile'] = population['People / Sq. Mile'].str.replace(\",\", \"\").astype('float')\n",
    "population[['Latitude', 'Longitude']] = population['Location'].str.split(',', n=1, expand=True).astype('float')\n",
    "\n",
    "# remove rows where no Zip Code is given and convert to integers\n",
    "crime = crime.dropna(subset='Zip_Code_Crime')\n",
    "crime['Zip_Code_Crime'] = crime['Zip_Code_Crime'].astype(np.int64)\n",
    "\n",
    "# count the number of crimes per zip code\n",
    "crime_counts = crime.groupby('Zip_Code_Crime', as_index=False).agg({'Key':'count', \n",
    "                                                     'Medianhouseholdincome':'first', \n",
    "                                                     'Medianrent':'first', \n",
    "                                                     'Medianhomevalue':'first'}).rename(columns={'Key':'Count'})\n",
    "\n",
    "# merge crime and population with demographics\n",
    "crime_rate = pd.merge(crime_counts, population, left_on=\"Zip_Code_Crime\", right_on='Zip Code', how='inner')\n",
    "crime_rate['Crime_Rate'] = crime_rate.Count / crime_rate.Population * 100000\n",
    "\n",
    "# # clean columns and set to float data types\n",
    "crime_rate['Medianhomevalue'] = crime_rate['Medianhomevalue'].str.replace(\"$\", \"\").astype('float')\n",
    "crime_rate['Medianrent'] = crime_rate['Medianrent'].str.replace(\"$\", \"\").astype('float')\n",
    "crime_rate['Medianhouseholdincome'] = crime_rate['Medianhouseholdincome'].str.replace(\"$\", \"\").astype('float')\n",
    "crime_rate.head(10)"
   ]
  },
  {
   "cell_type": "markdown",
   "id": "755a5ae8-c074-4e91-b2e8-cda4fd7ecda0",
   "metadata": {},
   "source": [
    "# Overall Crime Rate Correlated with Financial Health"
   ]
  },
  {
   "cell_type": "code",
   "execution_count": null,
   "id": "e633d55c-a7d2-48ee-949c-2d484f1360fb",
   "metadata": {},
   "outputs": [],
   "source": []
  },
  {
   "cell_type": "markdown",
   "id": "3677f636-327a-425f-b433-e42406254e5c",
   "metadata": {},
   "source": [
    "# T-Test Comparisons of Low vs High Income Zip Codes"
   ]
  },
  {
   "cell_type": "markdown",
   "id": "68c3b025-3747-4978-881b-60b7297be867",
   "metadata": {},
   "source": [
    "To divide Zip Codes into lower or higher income areas, we used the Department of Housing and Urban Development's (HUD) definition of lower income, which is below 80% of the median income for the metropolitain area. The median household income for Austin, TX in 2015 was \\\\$57,689, which sets our threshold at \\\\$46,151.20. The median household income of each Zip Code was then compared as either above or below this threshold. "
   ]
  },
  {
   "cell_type": "code",
   "execution_count": null,
   "id": "64340b5a-df50-4277-a991-4853e7200d10",
   "metadata": {},
   "outputs": [],
   "source": [
    "crime_rate['relativeIncome'] = np.where(crime_rate['Medianhouseholdincome'] > 46151.2, 'above', 'below')\n",
    "crime_rate.value_counts('relativeIncome')"
   ]
  },
  {
   "cell_type": "markdown",
   "id": "9bf41b6a-da49-4db5-aa8c-484157478e32",
   "metadata": {},
   "source": [
    "## Where are the approximate locations of Above income or Below income?"
   ]
  },
  {
   "cell_type": "code",
   "execution_count": null,
   "id": "286aedf6-0456-4492-a239-3267fdd68a6b",
   "metadata": {},
   "outputs": [],
   "source": [
    "sns.scatterplot(data=crime_rate, x='Longitude', y='Latitude', hue='relativeIncome')"
   ]
  },
  {
   "cell_type": "code",
   "execution_count": null,
   "id": "95955b34-a613-417d-990e-3f1e54029748",
   "metadata": {},
   "outputs": [],
   "source": [
    "relIncome_crime_dis = sns.kdeplot(data=crime_rate[crime_rate.Zip_Code_Crime != 78701], x='Crime_Rate', hue='relativeIncome')\n",
    "relIncome_crime_dis.set(title='Distribution of Crime Rate by Median Household Income', xlabel = 'Crime Rate')\n",
    "relIncome_crime_dis.get_legend().set_title('Above/Below HUD Threshold') \n",
    "plt.savefig(\"relativeIncome.png\", bbox_inches='tight')"
   ]
  },
  {
   "cell_type": "code",
   "execution_count": null,
   "id": "e82a2a61-7fc0-4da8-a05d-70752e1f5bb8",
   "metadata": {},
   "outputs": [],
   "source": [
    "high_income = crime_rate.loc[(crime_rate.Zip_Code_Crime != 78701) & (crime_rate.relativeIncome == 'above'), 'Crime_Rate']\n",
    "low_income = crime_rate.loc[(crime_rate.Zip_Code_Crime != 78701) & (crime_rate.relativeIncome == 'below'), 'Crime_Rate']\n",
    "stats.ttest_ind(high_income, low_income)"
   ]
  },
  {
   "cell_type": "markdown",
   "id": "1f56ada1-56ff-46aa-a33b-ac591f82aef0",
   "metadata": {},
   "source": [
    "We have some evidence that the crime rate for Zip Codes with lower income is higher than for Zip Codes with lower incomes. "
   ]
  },
  {
   "cell_type": "markdown",
   "id": "907376f0-2595-402e-a18f-c480ac8ae933",
   "metadata": {},
   "source": [
    "## How big is the difference?"
   ]
  },
  {
   "cell_type": "code",
   "execution_count": null,
   "id": "1ea83c6f-db4a-4ada-80c1-882e0244c11a",
   "metadata": {},
   "outputs": [],
   "source": [
    "crime_rate.loc[crime_rate.Zip_Code_Crime != 78701, :].groupby('relativeIncome').agg({'Crime_Rate': ['min', 'max', 'mean', 'median', 'std']})"
   ]
  },
  {
   "cell_type": "markdown",
   "id": "fb7a5dd3-7202-48fa-8fb2-83de05870ac3",
   "metadata": {},
   "source": [
    "For 2015, the difference measured is about 1808 crimes per 100,000 people."
   ]
  }
 ],
 "metadata": {
  "kernelspec": {
   "display_name": "Python [conda env:exp-env]",
   "language": "python",
   "name": "conda-env-exp-env-py"
  },
  "language_info": {
   "codemirror_mode": {
    "name": "ipython",
    "version": 3
   },
   "file_extension": ".py",
   "mimetype": "text/x-python",
   "name": "python",
   "nbconvert_exporter": "python",
   "pygments_lexer": "ipython3",
   "version": "3.12.4"
  }
 },
 "nbformat": 4,
 "nbformat_minor": 5
}
