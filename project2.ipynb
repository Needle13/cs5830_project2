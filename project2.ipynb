{
 "cells": [
  {
   "cell_type": "markdown",
   "id": "869aa517-b639-45ae-bddc-6c02e7c577ab",
   "metadata": {},
   "source": [
    "# Crime and Housing"
   ]
  },
  {
   "cell_type": "code",
   "execution_count": null,
   "id": "193d05f5-670a-417f-98fc-88bde51cb0d4",
   "metadata": {},
   "outputs": [],
   "source": [
    "import pandas as pd \n",
    "import numpy as np\n",
    "import seaborn as sns \n",
    "import matplotlib.pyplot as plt\n",
    "from scipy import stats"
   ]
  },
  {
   "cell_type": "code",
   "execution_count": null,
   "id": "26a077ec-4ccb-4a50-9702-933c6764c17d",
   "metadata": {},
   "outputs": [],
   "source": [
    "# load data sets\n",
    "crime = pd.read_csv('crime-housing-austin-2015.csv')\n",
    "population = pd.read_csv('AustinZipCodes.csv')\n",
    "\n",
    "# clean columns and set to float data types\n",
    "population['Population'] = population['Population'].str.replace(\",\", \"\").astype('float')\n",
    "population['People / Sq. Mile'] = population['People / Sq. Mile'].str.replace(\",\", \"\").astype('float')\n",
    "population[['Latitude', 'Longitude']] = population['Location'].str.split(',', n=1, expand=True).astype('float')\n",
    "\n",
    "# remove rows where no Zip Code is given and convert to integers\n",
    "crime = crime.dropna(subset='Zip_Code_Crime')\n",
    "crime['Zip_Code_Crime'] = crime['Zip_Code_Crime'].astype(np.int64)\n",
    "\n",
    "# count the number of crimes per zip code\n",
    "crime_counts = crime.groupby('Zip_Code_Crime', as_index=False).agg({'Key':'count', \n",
    "                                                     'Medianhouseholdincome':'first', \n",
    "                                                     'Medianrent':'first', \n",
    "                                                     'Medianhomevalue':'first'}).rename(columns={'Key':'Count'})\n",
    "\n",
    "# merge crime and population with demographics\n",
    "crime_rate = pd.merge(crime_counts, population, left_on=\"Zip_Code_Crime\", right_on='Zip Code', how='inner')\n",
    "crime_rate['Crime_Rate'] = crime_rate.Count / crime_rate.Population * 100000\n",
    "\n",
    "# # clean columns and set to float data types\n",
    "crime_rate['Medianhomevalue'] = crime_rate['Medianhomevalue'].str.replace(\"$\", \"\").astype('float')\n",
    "crime_rate['Medianrent'] = crime_rate['Medianrent'].str.replace(\"$\", \"\").astype('float')\n",
    "crime_rate['Medianhouseholdincome'] = crime_rate['Medianhouseholdincome'].str.replace(\"$\", \"\").astype('float')\n",
    "crime_rate.head(10)"
   ]
  },
  {
   "cell_type": "markdown",
   "id": "a7e95ea2-9563-4026-b043-dac0533ce214",
   "metadata": {},
   "source": [
    "# Distribution of Crime Rate"
   ]
  },
  {
   "cell_type": "markdown",
   "id": "d687f16c-c273-4d96-8813-1781876f62ca",
   "metadata": {},
   "source": [
    "Here is a brief visual overview of our data."
   ]
  },
  {
   "cell_type": "code",
   "execution_count": null,
   "id": "05774370-efb2-45d5-ba40-10105347b0cf",
   "metadata": {},
   "outputs": [],
   "source": [
    "hist_crimeRate = sns.histplot(data=crime_rate, x = \"Crime_Rate\")\n",
    "hist_crimeRate.set(title = \"Histogram of Zip Code's Crime Rate\", xlabel=\"Crimes Reported Per 100,000 People\", ylabel =\"Number of Zip Codes\")\n",
    "# hist_crimeRate.get_figure().savefig('histogram_crimeRate.png')"
   ]
  },
  {
   "cell_type": "code",
   "execution_count": null,
   "id": "ed10b6f3-c36f-42a9-baeb-dda80d2e2abe",
   "metadata": {},
   "outputs": [],
   "source": [
    "bp_crimeRate = sns.boxplot(data=crime_rate, x = \"Crime_Rate\")\n",
    "bp_crimeRate.set(title = \"Boxplot of Zip Code's Crime Rate\", xlabel=\"Crimes Reported Per 100,000 People\")\n",
    "# bp_crimeRate.get_figure().savefig('bp_crimeRate.png')"
   ]
  },
  {
   "cell_type": "code",
   "execution_count": null,
   "id": "a1f0d940-7826-47fc-bb1c-c15400fc991c",
   "metadata": {},
   "outputs": [],
   "source": [
    "fig, ax = plt.subplots(1, 3, figsize=(12,2), sharey=True)\n",
    "\n",
    "ax = plt.subplot(1,3,1)\n",
    "ax.scatter(x=crime_rate.Medianhouseholdincome, y=crime_rate.Crime_Rate, label='Crime Rate vs. Median Household Income')\n",
    "ax.set_xlabel('Median Household Income')    \n",
    "ax.set_ylabel('Crime Rate')    \n",
    "\n",
    "ax = plt.subplot(1,3,2)\n",
    "ax.scatter(x=crime_rate.Medianrent, y=crime_rate.Crime_Rate, label='Crime Rate vs. Median Rent')\n",
    "ax.set_xlabel('Median Rent')    \n",
    "\n",
    "ax = plt.subplot(1,3,3)\n",
    "ax.scatter(x=crime_rate.Medianhomevalue, y=crime_rate.Crime_Rate, label='Crime Rate vs. Median Home Value')\n",
    "ax.set_xlabel('Median Home Value')    "
   ]
  },
  {
   "cell_type": "code",
   "execution_count": null,
   "id": "0e30f34b-3e5f-460d-ac75-27eb34a042eb",
   "metadata": {},
   "outputs": [],
   "source": [
    "crime_rate.sort_values('Crime_Rate', ascending=False).head(5)"
   ]
  },
  {
   "cell_type": "markdown",
   "id": "99c35834-738d-403d-8f91-159631c5e664",
   "metadata": {},
   "source": [
    "Zip Code 78701 is the very center of the city and is a major outlier in the normalized crime rates as seen by the boxplot and histogram. Several reasons could be contributing to this Zip Code's very high crime rate, including:\n",
    "* Relatively lower population in the city center\n",
    "* Higher percentage of businesses and shops as locations for theft and other crime\n",
    "* Higher presence of tourists, which can make easy targets for theft and other crimes\n",
    "* Possible presence of gangs or other organized crime\n",
    "\n",
    "Due to the nature of this Zip Code and its outlying crime rate, we decided to remove it from further anaysis and trends we observed."
   ]
  },
  {
   "cell_type": "code",
   "execution_count": null,
   "id": "80f88e3a-2bfe-45a1-8f5c-24bfb2305e28",
   "metadata": {},
   "outputs": [],
   "source": [
    "# remove ZIP Code 78701 as outlier\n",
    "crime_rate = crime_rate.loc[crime_rate.Zip_Code_Crime != 78701, :]"
   ]
  },
  {
   "cell_type": "markdown",
   "id": "70adb89a-24ba-4562-8fc3-3ffc43203c82",
   "metadata": {},
   "source": [
    "# Distribution after removing the outlier"
   ]
  },
  {
   "cell_type": "code",
   "execution_count": null,
   "id": "16819391-d154-4e35-8299-03e5000397e5",
   "metadata": {},
   "outputs": [],
   "source": [
    "hist_crimeRate_dropoutlier = sns.histplot(data=crime_rate, x = \"Crime_Rate\")\n",
    "hist_crimeRate_dropoutlier.set(title = \"Histogram of Zip Code's Crime Rate (Excluding 78701)\", xlabel=\"Crimes Reported Per 100,000 People\", ylabel =\"Number of Zip Codes\")\n",
    "# hist_crimeRate_dropoutlier.get_figure().savefig('histogram_crimeRate_dropoutlier.png')"
   ]
  },
  {
   "cell_type": "code",
   "execution_count": null,
   "id": "bcf59588-8966-4f5c-8ba2-ad233a8efd05",
   "metadata": {},
   "outputs": [],
   "source": [
    "bp_crimeRate_dropoutlier = sns.boxplot(data=crime_rate, x = \"Crime_Rate\")\n",
    "bp_crimeRate_dropoutlier.set(title = \"Boxplot of Zip Code's Crime Rate (Excluding 78701)\", xlabel=\"Crimes Reported Per 100,000 People\")\n",
    "# bp_crimeRate_dropoutlier.get_figure().savefig('bp_crimeRate_dropoutlier.png')"
   ]
  },
  {
   "cell_type": "markdown",
   "id": "755a5ae8-c074-4e91-b2e8-cda4fd7ecda0",
   "metadata": {},
   "source": [
    "# Overall Crime Rate Correlated with Financial Health"
   ]
  },
  {
   "cell_type": "markdown",
   "id": "f74f19a2-4aea-4f7c-bd2f-e5886a51b026",
   "metadata": {},
   "source": [
    "We decided to compare Crime Rate to three finanical well-being metrics:\n",
    "* Median Household Income\n",
    "* Median Rent\n",
    "* Median Home Value\n",
    "\n",
    "These were plotted with a linear regression line & we cacluated the Pearson r correlation coefficient & p-value to determine the strength of the relationship."
   ]
  },
  {
   "cell_type": "code",
   "execution_count": null,
   "id": "e633d55c-a7d2-48ee-949c-2d484f1360fb",
   "metadata": {},
   "outputs": [],
   "source": [
    "# drop NaN value in financial health metrics\n",
    "crime_rate_dropna = crime_rate.dropna(subset='Medianhouseholdincome')\n",
    "crime_rate_dropna = crime_rate_dropna.dropna(subset='Medianrent')\n",
    "crime_rate_dropna = crime_rate_dropna.dropna(subset='Medianhomevalue')\n",
    "crime_rate_dropna.head()"
   ]
  },
  {
   "cell_type": "code",
   "execution_count": null,
   "id": "aed6df14-11c7-4a23-8fb7-937cf3dc5a4e",
   "metadata": {},
   "outputs": [],
   "source": [
    "# these are the ZIP codes that were dropped, in case you're curious\n",
    "crime_rate[crime_rate.isnull().any(axis=1)]"
   ]
  },
  {
   "cell_type": "markdown",
   "id": "e30722ae-e3e3-445d-961e-b935c77a8b84",
   "metadata": {},
   "source": [
    "## Crime Rate vs. Median Household Income"
   ]
  },
  {
   "cell_type": "code",
   "execution_count": null,
   "id": "7b9da740-622f-4d48-b0b8-9a0d05b29071",
   "metadata": {},
   "outputs": [],
   "source": [
    "crime_vs_income = sns.regplot(data=crime_rate_dropna, x='Medianhouseholdincome', y='Crime_Rate')\n",
    "crime_vs_income.set(title='Crime Rate vs. Median Household Income', xlabel='Median Household Income', ylabel='Crime Rate (per 100,000 people)')\n",
    "stats.pearsonr(crime_rate_dropna.Medianhouseholdincome, crime_rate_dropna.Crime_Rate)"
   ]
  },
  {
   "cell_type": "markdown",
   "id": "e36132d2-d046-4447-98b7-73e0e600c3f5",
   "metadata": {},
   "source": [
    "## Crime Rate vs. Median Rent"
   ]
  },
  {
   "cell_type": "code",
   "execution_count": null,
   "id": "5ccdd5cb-e648-417f-be86-cab8a800d166",
   "metadata": {},
   "outputs": [],
   "source": [
    "crime_vs_rent = sns.regplot(data=crime_rate_dropna, x='Medianrent', y='Crime_Rate')\n",
    "crime_vs_rent.set(title='Crime Rate vs. Median Rent', xlabel='Median Rent', ylabel='Crime Rate (per 100,000 people)')\n",
    "stats.pearsonr(crime_rate_dropna.Medianrent, crime_rate_dropna.Crime_Rate)"
   ]
  },
  {
   "cell_type": "markdown",
   "id": "5dbeb4bc-64df-478f-9785-f26dd28ec823",
   "metadata": {},
   "source": [
    "## Crime Rate vs. Median Home Value"
   ]
  },
  {
   "cell_type": "code",
   "execution_count": null,
   "id": "d80f3099-b064-492e-a2ee-fda70df19237",
   "metadata": {},
   "outputs": [],
   "source": [
    "crime_vs_home_value = sns.regplot(data=crime_rate_dropna, x='Medianhomevalue', y='Crime_Rate')\n",
    "crime_vs_home_value.set(title='Crime Rate vs. Median Home Value', xlabel='Median Home Value', ylabel='Crime Rate (per 100,000 people)')\n",
    "stats.pearsonr(crime_rate_dropna.Medianhomevalue, crime_rate_dropna.Crime_Rate)"
   ]
  },
  {
   "cell_type": "markdown",
   "id": "3677f636-327a-425f-b433-e42406254e5c",
   "metadata": {},
   "source": [
    "# T-Test Comparisons of Low vs High Income Zip Codes"
   ]
  },
  {
   "cell_type": "markdown",
   "id": "68c3b025-3747-4978-881b-60b7297be867",
   "metadata": {},
   "source": [
    "To divide Zip Codes into lower or higher income areas, we used the Department of Housing and Urban Development's (HUD) definition of lower income, which is below 80% of the median income for the metropolitain area. The median household income for Austin, TX in 2015 was \\\\$57,689, which sets our threshold at \\\\$46,151.20. The median household income of each Zip Code was then compared as either above or below this threshold. "
   ]
  },
  {
   "cell_type": "code",
   "execution_count": null,
   "id": "64340b5a-df50-4277-a991-4853e7200d10",
   "metadata": {},
   "outputs": [],
   "source": [
    "crime_rate['relativeIncome'] = np.where(crime_rate['Medianhouseholdincome'] > 46151.2, 'above', 'below')\n",
    "crime_rate.value_counts('relativeIncome')"
   ]
  },
  {
   "cell_type": "markdown",
   "id": "9bf41b6a-da49-4db5-aa8c-484157478e32",
   "metadata": {},
   "source": [
    "## Where are the approximate locations of Zip Codes above or below the HUD threshold?"
   ]
  },
  {
   "cell_type": "code",
   "execution_count": null,
   "id": "286aedf6-0456-4492-a239-3267fdd68a6b",
   "metadata": {},
   "outputs": [],
   "source": [
    "geoLoc_crimeRate = sns.scatterplot(data=crime_rate, x='Longitude', y='Latitude', hue='relativeIncome')\n",
    "geoLoc_crimeRate.get_legend().set_title('Above/Below HUD Threshold') \n",
    "# geoLoc_crimeRate.get_figure().savefig('geoLocation_zips.png')"
   ]
  },
  {
   "cell_type": "markdown",
   "id": "88c4a1cf-a072-4fdc-80fd-a293a0a53d79",
   "metadata": {},
   "source": [
    "## Distribution of Crime Rate by Relation to HUD Threshold"
   ]
  },
  {
   "cell_type": "code",
   "execution_count": null,
   "id": "95955b34-a613-417d-990e-3f1e54029748",
   "metadata": {},
   "outputs": [],
   "source": [
    "relIncome_crime_dis = sns.kdeplot(data=crime_rate, x='Crime_Rate', hue='relativeIncome')\n",
    "relIncome_crime_dis.set(title='Distribution of Crime Rate by Median Household Income', xlabel = 'Crime Rate')\n",
    "relIncome_crime_dis.get_legend().set_title('Above/Below HUD Threshold') \n",
    "# relIncome_crime_dis.get_figure().savefig(\"relativeIncome.png\", bbox_inches='tight')"
   ]
  },
  {
   "cell_type": "markdown",
   "id": "30b04e45-0198-42c1-8189-7deb35bb081d",
   "metadata": {},
   "source": [
    "## Is the difference statistically significant?"
   ]
  },
  {
   "cell_type": "code",
   "execution_count": null,
   "id": "e82a2a61-7fc0-4da8-a05d-70752e1f5bb8",
   "metadata": {},
   "outputs": [],
   "source": [
    "high_income = crime_rate.loc[(crime_rate.relativeIncome == 'above'), 'Crime_Rate']\n",
    "low_income = crime_rate.loc[(crime_rate.relativeIncome == 'below'), 'Crime_Rate']\n",
    "stats.ttest_ind(high_income, low_income)"
   ]
  },
  {
   "cell_type": "markdown",
   "id": "1f56ada1-56ff-46aa-a33b-ac591f82aef0",
   "metadata": {},
   "source": [
    "We have some evidence that the crime rate for Zip Codes with lower income is higher than for Zip Codes with lower incomes. "
   ]
  },
  {
   "cell_type": "markdown",
   "id": "907376f0-2595-402e-a18f-c480ac8ae933",
   "metadata": {},
   "source": [
    "## How big is the difference?"
   ]
  },
  {
   "cell_type": "code",
   "execution_count": null,
   "id": "1ea83c6f-db4a-4ada-80c1-882e0244c11a",
   "metadata": {},
   "outputs": [],
   "source": [
    "avg_crimeRate_income = crime_rate.groupby('relativeIncome').agg({'Crime_Rate': ['min', 'max', 'mean', 'median', 'std']})\n",
    "sns.boxplot(data=crime_rate, x = 'Crime_Rate', y = 'relativeIncome')\n",
    "display(avg_crimeRate_income)"
   ]
  },
  {
   "cell_type": "markdown",
   "id": "fb7a5dd3-7202-48fa-8fb2-83de05870ac3",
   "metadata": {},
   "source": [
    "For 2015, the average of the lower income Zip Codes had about 1808 more crimes per 100,000 people than the average of the higher income Zip Codes."
   ]
  }
 ],
 "metadata": {
  "kernelspec": {
   "display_name": "Python 3 (ipykernel)",
   "language": "python",
   "name": "python3"
  },
  "language_info": {
   "codemirror_mode": {
    "name": "ipython",
    "version": 3
   },
   "file_extension": ".py",
   "mimetype": "text/x-python",
   "name": "python",
   "nbconvert_exporter": "python",
   "pygments_lexer": "ipython3",
   "version": "3.12.4"
  }
 },
 "nbformat": 4,
 "nbformat_minor": 5
}
