{
 "cells": [
  {
   "cell_type": "markdown",
   "id": "869aa517-b639-45ae-bddc-6c02e7c577ab",
   "metadata": {},
   "source": [
    "# Crime and Housing"
   ]
  },
  {
   "cell_type": "code",
   "execution_count": null,
   "id": "193d05f5-670a-417f-98fc-88bde51cb0d4",
   "metadata": {},
   "outputs": [],
   "source": []
  }
 ],
 "metadata": {
  "kernelspec": {
   "display_name": "Python [conda env:exp-env]",
   "language": "python",
   "name": "conda-env-exp-env-py"
  },
  "language_info": {
   "codemirror_mode": {
    "name": "ipython",
    "version": 3
   },
   "file_extension": ".py",
   "mimetype": "text/x-python",
   "name": "python",
   "nbconvert_exporter": "python",
   "pygments_lexer": "ipython3",
   "version": "3.12.4"
  }
 },
 "nbformat": 4,
 "nbformat_minor": 5
}
